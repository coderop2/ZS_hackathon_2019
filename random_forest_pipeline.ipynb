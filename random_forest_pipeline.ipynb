{
 "cells": [
  {
   "cell_type": "code",
   "execution_count": null,
   "metadata": {},
   "outputs": [],
   "source": [
    "import numpy as np # linear algebra\n",
    "import pandas as pd # data processing, CSV file I/O (e.g. pd.read_csv)\n",
    "import os, math\n",
    "from sklearn.feature_selection import RFECV\n",
    "import warnings\n",
    "from sklearn.metrics import accuracy_score\n",
    "from xgboost import XGBClassifier\n",
    "from sklearn.ensemble import RandomForestClassifier, GradientBoostingClassifier, BaggingClassifier, ExtraTreesClassifier\n",
    "from sklearn.model_selection import StratifiedKFold\n",
    "from sklearn.model_selection import GridSearchCV\n",
    "warnings.filterwarnings('ignore')\n",
    "folds = StratifiedKFold(n_splits=6, shuffle=False, random_state=2319)\n",
    "predictions = []\n",
    "features = [c for c in train.columns if c not in [\"group_id\",\"surface\",\"series_id\",\"level_1\"]]\n",
    "target = train['surface']\n",
    "for fold_, (trn_idx, val_idx) in enumerate(folds.split(train.values, target.values)):\n",
    "    print(\"Fold {}\".format(fold_))\n",
    "    clf = RandomForestClassifier(criterion='entropy',n_estimators=500,max_depth=15, \n",
    "                                 min_samples_split=2,min_samples_leaf=2,\n",
    "                             max_features=\"sqrt\")\n",
    "    clf.fit(train.iloc[trn_idx][features],train.iloc[trn_idx]['surface'])\n",
    "    p = clf.predict(train.iloc[val_idx][features])\n",
    "    print(accuracy_score(p,train.iloc[val_idx]['surface']))\n",
    "    predictions.append(clf.predict(test[features]) )"
   ]
  },
  {
   "cell_type": "code",
   "execution_count": null,
   "metadata": {},
   "outputs": [],
   "source": [
    "sub = pd.DataFrame({\"series_id\": test['series_id'].values})\n",
    "sub[\"surface\"] = predictions[0]\n",
    "for i in range(1,6):\n",
    "    sub['surface'] = sub[\"surface\"]+predictions[i]\n",
    "sub['surface'] = sub[\"surface\"]/6\n",
    "sub2 = pd.DataFrame({\"series_id\": test_df['series_id'].values})\n",
    "sub2[\"surface\"] = predictions[2]\n",
    "sub.head()\n",
    "sub2.to_csv('submission39.csv', index=False)"
   ]
  }
 ],
 "metadata": {
  "kernelspec": {
   "display_name": "Python 3",
   "language": "python",
   "name": "python3"
  },
  "language_info": {
   "codemirror_mode": {
    "name": "ipython",
    "version": 3
   },
   "file_extension": ".py",
   "mimetype": "text/x-python",
   "name": "python",
   "nbconvert_exporter": "python",
   "pygments_lexer": "ipython3",
   "version": "3.6.4"
  }
 },
 "nbformat": 4,
 "nbformat_minor": 2
}
